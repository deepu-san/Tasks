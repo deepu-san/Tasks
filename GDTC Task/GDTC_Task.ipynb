{
  "nbformat": 4,
  "nbformat_minor": 0,
  "metadata": {
    "colab": {
      "name": "GDTC Task.ipynb",
      "provenance": [],
      "authorship_tag": "ABX9TyPOkkhubNBmnenFnztsxRf+",
      "include_colab_link": true
    },
    "kernelspec": {
      "name": "python3",
      "display_name": "Python 3"
    },
    "language_info": {
      "name": "python"
    }
  },
  "cells": [
    {
      "cell_type": "markdown",
      "metadata": {
        "id": "view-in-github",
        "colab_type": "text"
      },
      "source": [
        "<a href=\"https://colab.research.google.com/github/deepu-san/Tasks/blob/main/GDTC%20Task/GDTC_Task.ipynb\" target=\"_parent\"><img src=\"https://colab.research.google.com/assets/colab-badge.svg\" alt=\"Open In Colab\"/></a>"
      ]
    },
    {
      "cell_type": "markdown",
      "source": [
        "# Task #1\n",
        "Merge the 3 dataset and create 1 view of data.\n",
        "\n",
        "You can merge insurance_data.csv and employee_data.csv on\n",
        "AGENT_ID \n",
        "\n",
        "You can merge insurance_data.csv and vendor_data.csv on\n",
        "VENDOR_ID \n",
        "\n",
        "Note: Use left Outer join as not all claims require Vendor"
      ],
      "metadata": {
        "id": "PpAm5z8eWJt0"
      }
    },
    {
      "cell_type": "code",
      "execution_count": null,
      "metadata": {
        "id": "cbDIl6k9UskD"
      },
      "outputs": [],
      "source": [
        ""
      ]
    },
    {
      "cell_type": "markdown",
      "source": [
        "# Task #2\n",
        "Business Leader wants to find Top 3 Insurance Type where we are getting\n",
        "most insurance claims?"
      ],
      "metadata": {
        "id": "Htqvo-KZWVrz"
      }
    },
    {
      "cell_type": "markdown",
      "source": [
        "# Task #3\n",
        "Business Leader wants to find Top 5 States where we are getting most insurance claims\n",
        "for customer belonging to HIGH(H) risk segment?"
      ],
      "metadata": {
        "id": "2fF08XlJWVnA"
      }
    },
    {
      "cell_type": "markdown",
      "source": [
        "# Task #4\n",
        "Business wants to create a new variable “COLOCATION” which will have following values \n",
        "\n",
        "IF\n",
        "Customer State == Incident State == Agent Address State THEN 1 ELSE 0\n",
        "\n",
        "Find the mean of this new column"
      ],
      "metadata": {
        "id": "v-7t12MfWVlQ"
      }
    },
    {
      "cell_type": "markdown",
      "source": [
        "# Task #5\n",
        "Data entry error was detected in the data and you are required to correct it.\n",
        "\n",
        " If for any\n",
        "claim transaction “AUTHORITY_CONTACTED” is NOT “Police” and POLICE_AVAILABLE == 1\n",
        "Then Update “AUTHORITY_CONTACTED” to Police."
      ],
      "metadata": {
        "id": "OC1oZylbWVhg"
      }
    },
    {
      "cell_type": "markdown",
      "source": [
        "# Task #6\n",
        "Business wants to check the Claim Amount for deviation for each transaction, they would\n",
        "like you to calculate as follow\n",
        "\n",
        "\n",
        "CLAIM_DEVIATION = AVG_CLAIM_AMOUNT_FOR_LAST_30DAYS (same insurance type)\n",
        "/ CURRENT_CLAIM_AMOUNT\n",
        "\n",
        "If the value < 0.5 THEN CLAIM_DEVIATION = 1 ELSE 0\n",
        "\n",
        "If there is less than 30 days of transaction history THEN\n",
        "-1\n",
        "\n",
        " Note: LAST_30DAYS does not include current day"
      ],
      "metadata": {
        "id": "4xEuNG_mWVfu"
      }
    },
    {
      "cell_type": "markdown",
      "source": [
        "# Task #7\n",
        "Find All Agents who have worked on more than 2 types of Insurance Claims. Sort them by\n",
        "Total Claim Amount Approved under them in descending order"
      ],
      "metadata": {
        "id": "1bJCbpTWZYvv"
      }
    },
    {
      "cell_type": "markdown",
      "source": [
        "# Task #8\n",
        "Mobile & Travel Insurance premium are discounted by 10%\n",
        "Health and Property Insurance premium are increased by 7%\n",
        "Life and Motor Insurance premium are marginally increased by 2%\n",
        "What will be overall change in % of the Premium Amount Collected for all these Customer?"
      ],
      "metadata": {
        "id": "ytSLA7qqZYnR"
      }
    },
    {
      "cell_type": "markdown",
      "source": [
        "# Task #9\n",
        "Business wants to give discount to customer who are loyal and under stress due to Covid 19. \n",
        "They have laid down an eligibility Criteria as follow\n",
        "IF CUSTOMER_TENURE > 60 AND EMPLOYMENT_STATUS = “N”\n",
        "AND NO_OF_FAMILY_MEMBERS >=4 THEN 1 ELSE 0\n",
        "\n",
        "Create a new column “ELIGIBLE_FOR_DISCOUNT” and find it\n",
        "mean."
      ],
      "metadata": {
        "id": "eshRoN-vZYeR"
      }
    },
    {
      "cell_type": "markdown",
      "source": [
        "# Task #10\n",
        "Business wants to check Claim Velocity which is defined as follow\n",
        "CLAIM_VELOCITY = NO_OF_CLAIMS_IN_LAST30DAYS (for the current insurance type)\n",
        "/ NO_OF_CLAIMS_IN_LAST3DAYS (for the current insurance type)\n",
        "Note: LAST30DAYS & LAST3DAYS does not include current\n",
        "day"
      ],
      "metadata": {
        "id": "6gDAvPuFZYT_"
      }
    },
    {
      "cell_type": "markdown",
      "source": [
        "# Task #11\n",
        "Find all low performing agents i.e. employees who are in the bottom 5 percentile based\n",
        "on Claims worked by them."
      ],
      "metadata": {
        "id": "qTogvUOnZXvc"
      }
    },
    {
      "cell_type": "markdown",
      "source": [
        "# Task #12\n",
        "Business wants to find all Suspicious Employees (Agents).\n",
        "\n",
        "IF TOTAL CLAIM AMOUNT which meet below criteria is >= 15000 THEN AGENT is classified as Suspicious ELSE Not\n",
        "CLAIM_STATUS = Approved AND CUSTOMER_RISK_SEGMENTATION = High\n",
        "AND INCIDENT_SEVERITY = “Major Loss”\n",
        "\n",
        "If Suspicious, then 1 ELSE 0. Find mean of this column."
      ],
      "metadata": {
        "id": "HTI6VwuzZXk2"
      }
    },
    {
      "cell_type": "markdown",
      "source": [
        ""
      ],
      "metadata": {
        "id": "k5TSAfegZXPF"
      }
    }
  ]
}